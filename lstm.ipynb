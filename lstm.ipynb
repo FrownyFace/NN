{
 "cells": [
  {
   "cell_type": "code",
   "execution_count": 1,
   "metadata": {
    "collapsed": true
   },
   "outputs": [],
   "source": [
    "%matplotlib inline\n",
    "\n",
    "import matplotlib.pyplot as plt"
   ]
  },
  {
   "cell_type": "code",
   "execution_count": 2,
   "metadata": {
    "collapsed": false
   },
   "outputs": [
    {
     "name": "stderr",
     "output_type": "stream",
     "text": [
      "Using Theano backend.\n",
      "Using gpu device 0: GeForce GTX 970 (CNMeM is enabled with initial size: 95.0% of memory, cuDNN not available)\n",
      "DEPRECATION WARNING: softsign was moved from theano.sandbox.softsign to theano.tensor.nnet.nnet \n"
     ]
    }
   ],
   "source": [
    "import numpy as np\n",
    "import time\n",
    "import csv\n",
    "import h5py\n",
    "from keras.models import model_from_json\n",
    "from keras.models import Sequential\n",
    "from keras.layers import TimeDistributed\n",
    "from keras.layers.core import Dense,Activation,Dropout,TimeDistributedDense,RepeatVector\n",
    "from keras.layers.recurrent import LSTM\n",
    "\n",
    "np.random.seed(1234)"
   ]
  },
  {
   "cell_type": "code",
   "execution_count": 3,
   "metadata": {
    "collapsed": true
   },
   "outputs": [],
   "source": [
    "def relative_strength(prices, n=14):\n",
    "    \"\"\"\n",
    "    compute the n period relative strength indicator\n",
    "    http://stockcharts.com/school/doku.php?id=chart_school:glossary_r#relativestrengthindex\n",
    "    http://www.investopedia.com/terms/r/rsi.asp\n",
    "    \"\"\"\n",
    "\n",
    "    deltas = np.diff(prices)\n",
    "    seed = deltas[:n+1]\n",
    "    up = seed[seed >= 0].sum()/n\n",
    "    down = -seed[seed < 0].sum()/n\n",
    "    rs = up/down\n",
    "    rsi = np.zeros_like(prices)\n",
    "    rsi[:n] = 100. - 100./(1. + rs)\n",
    "\n",
    "    for i in range(n, len(prices)):\n",
    "        delta = deltas[i - 1]  # cause the diff is 1 shorter\n",
    "\n",
    "        if delta > 0:\n",
    "            upval = delta\n",
    "            downval = 0.\n",
    "        else:\n",
    "            upval = 0.\n",
    "            downval = -delta\n",
    "\n",
    "        up = (up*(n - 1) + upval)/n\n",
    "        down = (down*(n - 1) + downval)/n\n",
    "\n",
    "        rs = up/down\n",
    "        rsi[i] = 100. - 100./(1. + rs)\n",
    "\n",
    "    return rsi\n"
   ]
  },
  {
   "cell_type": "code",
   "execution_count": 4,
   "metadata": {
    "collapsed": false
   },
   "outputs": [
    {
     "data": {
      "image/png": "[encoded data removed]",
      "text/plain": [
       "<matplotlib.figure.Figure at 0x385bb00>"
      ]
     },
     "metadata": {},
     "output_type": "display_data"
    },
    {
     "name": "stdout",
     "output_type": "stream",
     "text": [
      "(5861L, 10L, 3L)\n",
      "[[ -2.49277253e-02  -7.93159690e-02   7.53291316e+01]\n",
      " [ -4.27643463e-02  -8.84836673e-02   5.80924653e+01]\n",
      " [ -4.67280816e-02  -8.77138539e-02   5.50764536e+01]\n",
      " [ -4.11997930e-02  -8.77138539e-02   5.83261833e+01]\n",
      " [ -4.08867968e-02  -8.42847203e-02   5.85091863e+01]\n",
      " [ -3.75489600e-02  -8.56144118e-02   6.05011878e+01]\n",
      " [ -4.43289726e-02  -9.21227809e-02   5.47510260e+01]\n",
      " [ -4.44333012e-02  -8.98133498e-02   5.46649301e+01]\n",
      " [ -4.00523976e-02  -8.09255950e-02   5.76747130e+01]] [-0.02868281 -0.0807156 ]\n",
      "[[ -0.73774066  -0.60239641  60.68894383]\n",
      " [ -0.73806714  -0.60267817  59.93308536]\n",
      " [ -0.73562219  -0.60107914  63.59023728]\n",
      " [ -0.73399289  -0.59806893  65.82861935]\n",
      " [ -0.73171065  -0.59882149  68.72869044]\n",
      " [ -0.72926566  -0.59477635  71.51753527]\n",
      " [ -0.72388757  -0.59496479  76.48521783]\n",
      " [ -0.7245395   -0.59421223  74.78254968]\n",
      " [ -0.72437676  -0.59496479  74.93256902]] [-0.72714719 -0.59590518]\n"
     ]
    },
    {
     "name": "stderr",
     "output_type": "stream",
     "text": [
      "C:\\Users\\Soham\\Anaconda2\\lib\\site-packages\\ipykernel\\__main__.py:45: VisibleDeprecationWarning: using a non-integer number instead of an integer will result in an error in the future\n",
      "C:\\Users\\Soham\\Anaconda2\\lib\\site-packages\\ipykernel\\__main__.py:48: VisibleDeprecationWarning: using a non-integer number instead of an integer will result in an error in the future\n",
      "C:\\Users\\Soham\\Anaconda2\\lib\\site-packages\\ipykernel\\__main__.py:49: VisibleDeprecationWarning: using a non-integer number instead of an integer will result in an error in the future\n"
     ]
    }
   ],
   "source": [
    "def load_data(path='aapl.csv',seq_len=10,ratio=1.0):\n",
    "    with open(path) as f:\n",
    "        data = csv.reader(f,delimiter=\",\")\n",
    "        o = []\n",
    "        c = []\n",
    "        for line in data:\n",
    "            try:\n",
    "                o.append(float(line[3]))\n",
    "                c.append(float(line[6]))\n",
    "            except ValueError:\n",
    "                pass\n",
    "    f.close()\n",
    "    o = np.array(list(reversed(o)))\n",
    "    o -= o.mean() #normalize prices\n",
    "    o /= o.max()\n",
    "    c = np.array(list(reversed(c)))\n",
    "    c -= c.mean()\n",
    "    c /= c.max()\n",
    "    \n",
    "    axis = np.arange(len(o))\n",
    "    plt.plot(axis,o)\n",
    "    plt.plot(axis,c)\n",
    "    plt.show()\n",
    "    \n",
    "    rsi = relative_strength(o,n=14)\n",
    "    #print len(rsi),len(o)\n",
    "    \n",
    "    r1 = []\n",
    "    r2 = []\n",
    "    r3 = []\n",
    "    for index in range(len(o) - seq_len):\n",
    "        r1.append(o[index:index+seq_len])\n",
    "        r2.append(c[index:index+seq_len])\n",
    "        r3.append(rsi[index:index+seq_len])\n",
    "        \n",
    "    r1 = np.array(r1)\n",
    "    r2 = np.array(r2)\n",
    "    r3 = np.array(r3)\n",
    "    result = np.stack((r1,r2,r3),axis=2)\n",
    "        \n",
    "    print result.shape\n",
    "    \n",
    "    np.random.shuffle(result)\n",
    "    row = round(0.9 * result.shape[0])\n",
    "    train = result[:row, :]\n",
    "    X_train = train[:, :-1]\n",
    "    y_train = train[:, -1,:2]\n",
    "    X_test = result[row:, :-1]\n",
    "    y_test = result[row:, -1,:2]\n",
    "\n",
    "    X_train = np.reshape(X_train, (X_train.shape[0], X_train.shape[1], 3))\n",
    "    X_test = np.reshape(X_test, (X_test.shape[0], X_test.shape[1], 3))\n",
    "\n",
    "    return [X_train, y_train, X_test, y_test]\n",
    "\n",
    "X_train, y_train, X_test, y_test = load_data(path='spy.csv')\n",
    "print X_train[23],y_train[23]\n",
    "print X_test[3],y_test[3]"
   ]
  },
  {
   "cell_type": "code",
   "execution_count": 78,
   "metadata": {
    "collapsed": false
   },
   "outputs": [],
   "source": [
    "def build_model():\n",
    "    model = Sequential()\n",
    "    layers = [3,50,100,50,2]\n",
    "    \n",
    "    model.add(LSTM(\n",
    "        input_dim=layers[0],\n",
    "        output_dim=layers[1],\n",
    "        return_sequences=True))\n",
    "    model.add(Dropout(0.1))\n",
    "    \n",
    "    model.add(LSTM(\n",
    "        input_dim=layers[1],\n",
    "        output_dim=layers[2],\n",
    "        return_sequences=True))\n",
    "    model.add(Dropout(0.1))\n",
    "    \n",
    "    model.add(LSTM(\n",
    "        layers[3],\n",
    "        return_sequences=False))\n",
    "    model.add(Dropout(0.2))\n",
    "\n",
    "    model.add(Dense(\n",
    "        output_dim=layers[4]))\n",
    "    model.add(Activation(\"linear\"))\n",
    "\n",
    "    start = time.time()\n",
    "    model.compile(loss=\"mse\", optimizer=\"adam\",metrics=['accuracy'])\n",
    "    print \"Compilation Time : \", time.time() - start\n",
    "    return model"
   ]
  },
  {
   "cell_type": "code",
   "execution_count": 86,
   "metadata": {
    "collapsed": false
   },
   "outputs": [],
   "source": [
    "def run_network(model=None, data=None, trained=0):\n",
    "    global_start_time = time.time()\n",
    "    epochs = 20\n",
    "    ratio = 0.5\n",
    "    sequence_length = 10\n",
    "    path_to_dataset = 'goog.csv'\n",
    "\n",
    "    if data is None:\n",
    "        print 'Loading data... '\n",
    "        X_train, y_train, X_test, y_test = load_data(\n",
    "            path_to_dataset, sequence_length, ratio)\n",
    "    else:\n",
    "        X_train, y_train, X_test, y_test = data\n",
    "\n",
    "    print 'Data Loaded'\n",
    "\n",
    "    if model is None:\n",
    "        print 'Building model...'\n",
    "        model = build_model()\n",
    "    if trained==0:\n",
    "        print 'Training...'\n",
    "        model.fit(\n",
    "            X_train, y_train,\n",
    "            batch_size=32, nb_epoch=epochs, validation_split=0.05)\n",
    "        \n",
    "    predicted = model.predict(X_test)\n",
    "    predicted = np.reshape(predicted, (predicted.size,))\n",
    "    \n",
    "    print 'Total Duration (s) : ', time.time() - global_start_time\n",
    "    \n",
    "    return model, y_test, predicted"
   ]
  },
  {
   "cell_type": "code",
   "execution_count": 87,
   "metadata": {
    "collapsed": false
   },
   "outputs": [
    {
     "name": "stdout",
     "output_type": "stream",
     "text": [
      "Loading data... \n"
     ]
    },
    {
     "data": {
      "image/png": "[encoded data removed]",
      "text/plain": [
       "<matplotlib.figure.Figure at 0x447d3390>"
      ]
     },
     "metadata": {},
     "output_type": "display_data"
    },
    {
     "name": "stdout",
     "output_type": "stream",
     "text": [
      "(2940L, 10L, 3L)\n",
      "Data Loaded\n",
      "Building model...\n"
     ]
    },
    {
     "name": "stderr",
     "output_type": "stream",
     "text": [
      "C:\\Users\\Soham\\Anaconda2\\lib\\site-packages\\ipykernel\\__main__.py:45: VisibleDeprecationWarning: using a non-integer number instead of an integer will result in an error in the future\n",
      "C:\\Users\\Soham\\Anaconda2\\lib\\site-packages\\ipykernel\\__main__.py:48: VisibleDeprecationWarning: using a non-integer number instead of an integer will result in an error in the future\n",
      "C:\\Users\\Soham\\Anaconda2\\lib\\site-packages\\ipykernel\\__main__.py:49: VisibleDeprecationWarning: using a non-integer number instead of an integer will result in an error in the future\n"
     ]
    },
    {
     "name": "stdout",
     "output_type": "stream",
     "text": [
      "Compilation Time :  0.223000049591\n",
      "Training...\n",
      "Train on 2513 samples, validate on 133 samples\n",
      "Epoch 1/20\n",
      "2513/2513 [==============================] - 6s - loss: 0.0533 - acc: 0.5165 - val_loss: 0.0036 - val_acc: 0.5113\n",
      "Epoch 2/20\n",
      "2513/2513 [==============================] - 4s - loss: 0.0096 - acc: 0.4982 - val_loss: 0.0019 - val_acc: 0.5714\n",
      "Epoch 3/20\n",
      "2513/2513 [==============================] - 4s - loss: 0.0075 - acc: 0.4891 - val_loss: 0.0059 - val_acc: 0.6316\n",
      "Epoch 4/20\n",
      "2513/2513 [==============================] - 4s - loss: 0.0067 - acc: 0.5125 - val_loss: 0.0012 - val_acc: 0.6165\n",
      "Epoch 5/20\n",
      "2513/2513 [==============================] - 4s - loss: 0.0064 - acc: 0.5245 - val_loss: 0.0013 - val_acc: 0.6917\n",
      "Epoch 6/20\n",
      "2513/2513 [==============================] - 4s - loss: 0.0054 - acc: 0.5149 - val_loss: 0.0012 - val_acc: 0.5714\n",
      "Epoch 7/20\n",
      "2513/2513 [==============================] - 4s - loss: 0.0051 - acc: 0.5058 - val_loss: 0.0011 - val_acc: 0.6391\n",
      "Epoch 8/20\n",
      "2513/2513 [==============================] - 4s - loss: 0.0047 - acc: 0.5149 - val_loss: 7.8639e-04 - val_acc: 0.6842\n",
      "Epoch 9/20\n",
      "2513/2513 [==============================] - 4s - loss: 0.0045 - acc: 0.5149 - val_loss: 0.0016 - val_acc: 0.6015\n",
      "Epoch 10/20\n",
      "2513/2513 [==============================] - 4s - loss: 0.0045 - acc: 0.5300 - val_loss: 0.0011 - val_acc: 0.6617\n",
      "Epoch 11/20\n",
      "2513/2513 [==============================] - 4s - loss: 0.0042 - acc: 0.5066 - val_loss: 8.4543e-04 - val_acc: 0.4286\n",
      "Epoch 12/20\n",
      "2513/2513 [==============================] - 4s - loss: 0.0042 - acc: 0.5205 - val_loss: 0.0029 - val_acc: 0.6391\n",
      "Epoch 13/20\n",
      "2513/2513 [==============================] - 4s - loss: 0.0039 - acc: 0.5308 - val_loss: 0.0013 - val_acc: 0.6617\n",
      "Epoch 14/20\n",
      "2513/2513 [==============================] - 4s - loss: 0.0036 - acc: 0.5006 - val_loss: 6.8944e-04 - val_acc: 0.5865\n",
      "Epoch 15/20\n",
      "2513/2513 [==============================] - 4s - loss: 0.0033 - acc: 0.5257 - val_loss: 5.1250e-04 - val_acc: 0.6466\n",
      "Epoch 16/20\n",
      "2513/2513 [==============================] - 4s - loss: 0.0035 - acc: 0.5050 - val_loss: 0.0016 - val_acc: 0.6316\n",
      "Epoch 17/20\n",
      "2513/2513 [==============================] - 4s - loss: 0.0034 - acc: 0.5249 - val_loss: 6.2571e-04 - val_acc: 0.6316\n",
      "Epoch 18/20\n",
      "2513/2513 [==============================] - 4s - loss: 0.0035 - acc: 0.5221 - val_loss: 0.0022 - val_acc: 0.6015\n",
      "Epoch 19/20\n",
      "2513/2513 [==============================] - 7s - loss: 0.0033 - acc: 0.5225 - val_loss: 0.0012 - val_acc: 0.5940\n",
      "Epoch 20/20\n",
      "2513/2513 [==============================] - 4s - loss: 0.0030 - acc: 0.5261 - val_loss: 8.1439e-04 - val_acc: 0.5564\n",
      "Total Duration (s) :  136.799000025\n"
     ]
    },
    {
     "data": {
      "text/plain": [
       "'try:\\n    m = model_from_json(open(\\'lstm_arch.json\\').read())\\n    m.load_weights(\\'lstm_weights.h5\\')\\n    m.compile(loss=\"mse\", optimizer=\"adam\",metrics=[\\'accuracy\\'])\\n    print \\'Model Loaded From File\\'\\n    run_network(model=m,trained=1)\\nexcept (RuntimeError, TypeError, NameError) as err:\\n    print err\\n    print \\'Running Network\\'\\n    m, true, pred = run_network()'"
      ]
     },
     "execution_count": 87,
     "metadata": {},
     "output_type": "execute_result"
    }
   ],
   "source": [
    "m, true, pred = run_network()\n",
    "'''try:\n",
    "    m = model_from_json(open('lstm_arch.json').read())\n",
    "    m.load_weights('lstm_weights.h5')\n",
    "    m.compile(loss=\"mse\", optimizer=\"adam\",metrics=['accuracy'])\n",
    "    print 'Model Loaded From File'\n",
    "    run_network(model=m,trained=1)\n",
    "except (RuntimeError, TypeError, NameError) as err:\n",
    "    print err\n",
    "    print 'Running Network'\n",
    "    m, true, pred = run_network()'''"
   ]
  },
  {
   "cell_type": "code",
   "execution_count": 9,
   "metadata": {
    "collapsed": false
   },
   "outputs": [],
   "source": [
    "open('lstm_arch.json','w').write(m.to_json())\n",
    "m.save_weights('lstm_weights.h5')"
   ]
  },
  {
   "cell_type": "code",
   "execution_count": 88,
   "metadata": {
    "collapsed": false
   },
   "outputs": [
    {
     "name": "stdout",
     "output_type": "stream",
     "text": [
      "0.0135073262348\n",
      "0.0149074189603\n"
     ]
    }
   ],
   "source": [
    "#for i in range(len(pred)):\n",
    "#    if(np.absolute(true[i]-pred[i]) > 10):\n",
    "#        print true[i],pred[i]\n",
    "print np.absolute(sum(pred[::2]-true[:,0]))/len(true)\n",
    "print np.absolute(sum(pred[1::2]-true[:,1]))/len(true)"
   ]
  },
  {
   "cell_type": "code",
   "execution_count": 89,
   "metadata": {
    "collapsed": false
   },
   "outputs": [
    {
     "data": {
      "image/png": "[encoded data removed]",
      "text/plain": [
       "<matplotlib.figure.Figure at 0x41048860>"
      ]
     },
     "metadata": {},
     "output_type": "display_data"
    },
    {
     "data": {
      "image/png": "[encoded data removed]",
      "text/plain": [
       "<matplotlib.figure.Figure at 0x41048898>"
      ]
     },
     "metadata": {},
     "output_type": "display_data"
    }
   ],
   "source": [
    "l = true.shape[0]\n",
    "axis = np.arange(l)\n",
    "a,b = np.split(pred,2)\n",
    "plt.scatter(true[:,0],pred[::2])\n",
    "plt.show()\n",
    "plt.scatter(true[:,1],pred[1::2])\n",
    "plt.show()"
   ]
  },
  {
   "cell_type": "code",
   "execution_count": 21,
   "metadata": {
    "collapsed": false
   },
   "outputs": [
    {
     "name": "stdout",
     "output_type": "stream",
     "text": [
      "(387L, 2L)\n",
      "(387L,)\n",
      "(387L,)\n"
     ]
    }
   ],
   "source": [
    "print true.shape\n",
    "print pred[l:].shape\n",
    "print pred[:l].shape"
   ]
  },
  {
   "cell_type": "code",
   "execution_count": 96,
   "metadata": {
    "collapsed": false
   },
   "outputs": [
    {
     "name": "stdout",
     "output_type": "stream",
     "text": [
      "39 71.2415180486\n",
      "2 14.0585972374\n",
      "119 24.8989613722\n",
      "21 33.147800956\n",
      "1 6.9784844118\n",
      "1 12.4664187551\n",
      "6 -4.84428772275\n",
      "2 -1.8970637236\n",
      "1 5.80975765351\n",
      "2 -4.20064110225\n",
      "2 3.31986151629\n",
      "14 16.0064751678\n",
      "4 -2.20194896489\n",
      "1 6.38565199817\n",
      "1 -2.71009103371\n",
      "1 14.194101789\n",
      "1 4.18370303329\n",
      "1 3.28598537837\n",
      "1 24.2553147517\n",
      "12 -17.1582638572\n",
      "3 9.16349530772\n",
      "1 1.84624951671\n",
      "1 -0.863841516994\n",
      "4 -2.6254006889\n",
      "3 3.11660468876\n",
      "3 21.9178612351\n",
      "1 -3.47230413694\n",
      "3 0.321823310253\n",
      "1 -0.829965379073\n",
      "1 3.92963199888\n",
      "1 -0.101628413764\n",
      "2 -0.101628413764\n",
      "3 -6.35177586025\n",
      "1 0.846903448033\n",
      "2 2.57458648202\n",
      "1 2.04950634424\n",
      "1 4.01432234368\n",
      "1 6.01301448104\n",
      "3 -17.4123348916\n",
      "1 -3.92963199888\n",
      "1 3.4892422059\n",
      "3 -3.21823310253\n",
      "1 18.9198230291\n",
      "1 36.5692908861\n",
      "3 -23.1374022003\n",
      "2 -4.03126041264\n",
      "1 10.6371073073\n",
      "3 -12.3309142034\n",
      "6 -9.40062827317\n",
      "1 8.74004358371\n",
      "2 2.71009103371\n",
      "1 -4.23451724017\n",
      "1 5.65731503286\n",
      "4 -1.40585972374\n",
      "1 3.23517117149\n",
      "1 -1.06709834452\n",
      "1 3.82800358511\n",
      "1 16.5993075815\n",
      "2 16.0234132368\n",
      "1 13.9230926857\n",
      "2 24.3908193034\n",
      "6 5.58956275702\n",
      "2 33.6898191628\n",
      "4 12.8051801343\n",
      "22 -33.9947044041\n",
      "1 16.9888831676\n",
      "2 5.91138606727\n",
      "2 -1.69380689607\n",
      "2 1.32116937893\n",
      "1 12.940684686\n",
      "1 9.41756634213\n",
      "6 -4.4377740677\n",
      "1 12.3986664792\n",
      "3 -0.829965379073\n",
      "1 -14.7361199958\n",
      "1 -7.30030772205\n",
      "2 -7.48662648062\n",
      "1 9.89183227303\n",
      "1 5.28467751573\n",
      "1 3.62474675758\n",
      "4 6.40259006713\n",
      "4 -24.8312090963\n",
      "1 0.525080137781\n",
      "1 2.99803820604\n",
      "1 0.203256827528\n",
      "2 -16.4976791677\n",
      "1 9.044928825\n",
      "1 5.36936786053\n",
      "1 -13.9908449615\n",
      "2 -3.55699448174\n",
      "1 5.82669572247\n",
      "1 9.34981406629\n",
      "3 -15.9048467541\n",
      "3 -16.5993075815\n",
      "1 -1.72768303399\n",
      "5 19.9361071667\n",
      "2 3.64168482654\n",
      "2 5.166111033\n",
      "6 -17.3276445468\n",
      "1 15.2442620646\n",
      "1 2.55764841306\n",
      "3 -16.1419797195\n",
      "4 -8.72310551475\n",
      "2 18.8351326843\n",
      "2 -4.9967303434\n",
      "4 -13.4318886858\n",
      "4 15.7862802713\n",
      "4 16.9719450986\n",
      "3 -3.014976275\n",
      "4 10.8064879969\n",
      "1 9.72245158342\n",
      "3 -26.9992819233\n",
      "5 -45.5634055042\n",
      "2 35.6546351622\n",
      "2 22.1211180626\n",
      "1 12.9914988928\n",
      "2 15.7862802713\n",
      "2 -6.41952813609\n",
      "1 -3.45536606798\n",
      "1 2.5407103441\n",
      "2 -9.24818565253\n",
      "2 -2.28663930969\n",
      "2 3.37067572317\n",
      "2 2.64233875786\n",
      "1 11.5517630312\n",
      "5 -45.7666623317\n",
      "1 28.4898319918\n",
      "2 -4.69184510211\n",
      "1 10.332222066\n",
      "4 -19.800602615\n",
      "1 -4.77653544691\n",
      "2 -0.592832413623\n",
      "1 -2.81171944747\n",
      "4 1.60911655126\n",
      "1 7.09705089452\n",
      "1 19.1400179256\n",
      "3 1.88012565463\n",
      "3 -1.88012565463\n",
      "2 114.010142174\n",
      "1 3.82800358511\n",
      "1 -6.57197075674\n",
      "3 -23.2220925451\n",
      "1 26.8807154406\n",
      "1 11.4670726864\n",
      "1 8.41822027345\n",
      "2 0.863841516994\n",
      "1 -3.43842799902\n",
      "1 13.2116937893\n",
      "540.612347018\n"
     ]
    }
   ],
   "source": [
    "def test_data(path='goog.csv',seq_len=10,model=m,cool=None):\n",
    "    with open(path) as f:\n",
    "        data = csv.reader(f,delimiter=\",\")\n",
    "        o = []\n",
    "        c = []\n",
    "        for line in data:\n",
    "            try:\n",
    "                o.append(float(line[3]))\n",
    "                c.append(float(line[6]))\n",
    "            except ValueError:\n",
    "                pass\n",
    "    f.close()\n",
    "\n",
    "    o = np.array(list(reversed(o)))\n",
    "    c = np.array(list(reversed(c)))\n",
    "    \n",
    "    rsi = relative_strength(o,n=14)\n",
    "    \n",
    "    a = (o.mean()+c.mean())/2\n",
    "    m = (o.max()+c.max())/2\n",
    "    \n",
    "    o -= o.mean() #normalize prices\n",
    "    o /= o.max()\n",
    "    c -= c.mean()\n",
    "    c /= c.max()\n",
    "    \n",
    "    \n",
    "    r1 = []\n",
    "    r2 = []\n",
    "    r3 = []\n",
    "    for index in range(len(o) - seq_len):\n",
    "        r1.append(o[index:index+seq_len])\n",
    "        r2.append(c[index:index+seq_len])\n",
    "        r3.append(rsi[index:index+seq_len])\n",
    "        \n",
    "    r1 = np.array(r1)\n",
    "    r2 = np.array(r2)\n",
    "    r3 = np.array(r3)\n",
    "    result = np.stack((r1,r2,r3),axis=2)\n",
    "\n",
    "    X = result[:,:-1]\n",
    "    Y = result[:,-1,:2]\n",
    "    \n",
    "    X = np.reshape(X,(X.shape[0],X.shape[1],3))\n",
    "    \n",
    "    if cool is None:\n",
    "        mehz  = model.predict(X)\n",
    "    else:\n",
    "        mehz = cool\n",
    "    \n",
    "    bought = False\n",
    "    cur_prof = 0\n",
    "    days_held = 0\n",
    "    cum_prof = 0\n",
    "    prices = []\n",
    "    \n",
    "    X = np.array(X)*m+a\n",
    "    Y = np.array(Y)*m+a\n",
    "    meh = np.array(mehz)*m+a\n",
    "    \n",
    "    for i in range(len(X)):\n",
    "        if bought==False and meh[i,0] > X[i,-1,0]:\n",
    "            bought = True\n",
    "            cur_prof += Y[i,0]-X[i,-1,0]\n",
    "            days_held += 1\n",
    "            prices.append(X[i,-1,0])\n",
    "            prices.append(Y[i,0])\n",
    "        elif bought==True and meh[i,0] > X[i,-1,0]:\n",
    "            cur_prof += Y[i,0]-X[i,-1,0]\n",
    "            prices.append(Y[i,0])\n",
    "            days_held += 1\n",
    "        elif bought==True and meh[i,0] < X[i,-1,0]:\n",
    "            bought = False\n",
    "            cum_prof += cur_prof\n",
    "            print days_held, cur_prof\n",
    "            #print prices\n",
    "            del prices[:]\n",
    "            cur_prof = 0\n",
    "            days_held = 0\n",
    "        \n",
    "    print cum_prof\n",
    "    return mehz\n",
    "\n",
    "cool = test_data()"
   ]
  },
  {
   "cell_type": "code",
   "execution_count": null,
   "metadata": {
    "collapsed": true
   },
   "outputs": [],
   "source": []
  }
 ],
 "metadata": {
  "kernelspec": {
   "display_name": "Python 2",
   "language": "python",
   "name": "python2"
  },
  "language_info": {
   "codemirror_mode": {
    "name": "ipython",
    "version": 2
   },
   "file_extension": ".py",
   "mimetype": "text/x-python",
   "name": "python",
   "nbconvert_exporter": "python",
   "pygments_lexer": "ipython2",
   "version": "2.7.11"
  }
 },
 "nbformat": 4,
 "nbformat_minor": 0
}
